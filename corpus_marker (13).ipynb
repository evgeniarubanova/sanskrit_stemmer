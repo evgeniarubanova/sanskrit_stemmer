{
  "nbformat": 4,
  "nbformat_minor": 0,
  "metadata": {
    "colab": {
      "name": "corpus_marker",
      "provenance": [],
      "collapsed_sections": []
    },
    "kernelspec": {
      "name": "python3",
      "display_name": "Python 3"
    }
  },
  "cells": [
    {
      "cell_type": "code",
      "metadata": {
        "id": "24YiyUTU8kAG",
        "colab_type": "code",
        "outputId": "1f17c237-9a92-47ed-895b-6a8708de97d2",
        "colab": {
          "base_uri": "https://localhost:8080/",
          "height": 120
        }
      },
      "source": [
        "from google.colab import drive\n",
        "drive.mount('/content/drive')"
      ],
      "execution_count": 0,
      "outputs": [
        {
          "output_type": "stream",
          "text": [
            "Go to this URL in a browser: https://accounts.google.com/o/oauth2/auth?client_id=947318989803-6bn6qk8qdgf4n4g3pfee6491hc0brc4i.apps.googleusercontent.com&redirect_uri=urn%3aietf%3awg%3aoauth%3a2.0%3aoob&response_type=code&scope=email%20https%3a%2f%2fwww.googleapis.com%2fauth%2fdocs.test%20https%3a%2f%2fwww.googleapis.com%2fauth%2fdrive%20https%3a%2f%2fwww.googleapis.com%2fauth%2fdrive.photos.readonly%20https%3a%2f%2fwww.googleapis.com%2fauth%2fpeopleapi.readonly\n",
            "\n",
            "Enter your authorization code:\n",
            "··········\n",
            "Mounted at /content/drive\n"
          ],
          "name": "stdout"
        }
      ]
    },
    {
      "cell_type": "code",
      "metadata": {
        "id": "BFBVFHXz8peI",
        "colab_type": "code",
        "outputId": "036fd63c-4baf-4d0b-a582-6018d10ad575",
        "colab": {
          "base_uri": "https://localhost:8080/",
          "height": 200
        }
      },
      "source": [
        "pip install pymorphy2"
      ],
      "execution_count": 0,
      "outputs": [
        {
          "output_type": "stream",
          "text": [
            "Collecting pymorphy2\n",
            "\u001b[?25l  Downloading https://files.pythonhosted.org/packages/a3/33/fff9675c68b5f6c63ec8c6e6ff57827dda28a1fa5b2c2d727dffff92dd47/pymorphy2-0.8-py2.py3-none-any.whl (46kB)\n",
            "\r\u001b[K     |███████                         | 10kB 14.4MB/s eta 0:00:01\r\u001b[K     |██████████████▏                 | 20kB 3.3MB/s eta 0:00:01\r\u001b[K     |█████████████████████▎          | 30kB 4.3MB/s eta 0:00:01\r\u001b[K     |████████████████████████████▍   | 40kB 4.7MB/s eta 0:00:01\r\u001b[K     |████████████████████████████████| 51kB 2.5MB/s \n",
            "\u001b[?25hCollecting dawg-python>=0.7\n",
            "  Downloading https://files.pythonhosted.org/packages/6a/84/ff1ce2071d4c650ec85745766c0047ccc3b5036f1d03559fd46bb38b5eeb/DAWG_Python-0.7.2-py2.py3-none-any.whl\n",
            "Collecting pymorphy2-dicts<3.0,>=2.4\n",
            "\u001b[?25l  Downloading https://files.pythonhosted.org/packages/02/51/2465fd4f72328ab50877b54777764d928da8cb15b74e2680fc1bd8cb3173/pymorphy2_dicts-2.4.393442.3710985-py2.py3-none-any.whl (7.1MB)\n",
            "\u001b[K     |████████████████████████████████| 7.1MB 11.2MB/s \n",
            "\u001b[?25hRequirement already satisfied: docopt>=0.6 in /usr/local/lib/python3.6/dist-packages (from pymorphy2) (0.6.2)\n",
            "Installing collected packages: dawg-python, pymorphy2-dicts, pymorphy2\n",
            "Successfully installed dawg-python-0.7.2 pymorphy2-0.8 pymorphy2-dicts-2.4.393442.3710985\n"
          ],
          "name": "stdout"
        }
      ]
    },
    {
      "cell_type": "code",
      "metadata": {
        "id": "ZZDZebav8zKk",
        "colab_type": "code",
        "colab": {}
      },
      "source": [
        "import re\n",
        "import os\n",
        "from termcolor import colored\n",
        "import pymorphy2\n",
        "morph = pymorphy2.MorphAnalyzer()\n",
        "\n",
        "path = '/content/drive/My Drive/Colab Notebooks/диплом/'"
      ],
      "execution_count": 0,
      "outputs": []
    },
    {
      "cell_type": "markdown",
      "metadata": {
        "id": "vyv5-aB2JreG",
        "colab_type": "text"
      },
      "source": [
        "Файлы списков санскритских слов, корпуса русских слов и иностранных слов"
      ]
    },
    {
      "cell_type": "code",
      "metadata": {
        "id": "tqLxuJz3J0cZ",
        "colab_type": "code",
        "colab": {}
      },
      "source": [
        "#список Серенсена\n",
        "\n",
        "with open(path + '9460-osnov-sanskritskikh-slov.txt', 'r', encoding = 'utf-8') as r:\n",
        "    lines = r.readlines()\n",
        "sans = [x.lower() for x in lines]\n",
        "sans = [re.sub('\\n', '', x) for x in sans]"
      ],
      "execution_count": 0,
      "outputs": []
    },
    {
      "cell_type": "code",
      "metadata": {
        "id": "vqKgcUTqLg-U",
        "colab_type": "code",
        "outputId": "816744d0-8bcc-44fd-d9a0-88659027e610",
        "colab": {
          "base_uri": "https://localhost:8080/",
          "height": 33
        }
      },
      "source": [
        "#список из 354 тысяч санскритизмов\n",
        "\n",
        "with open(path + '384000.txt', 'r', encoding = 'utf-8') as n:\n",
        "    sans_dict = n.readlines()\n",
        "    \n",
        "sans_dict = [re.sub('\\n','',x) for x in sans_dict]\n",
        "sans_dict = set(sans_dict)\n",
        "sans_dict = [x for x in sans_dict if len(x) > 2]\n",
        "len(sans_dict)"
      ],
      "execution_count": 0,
      "outputs": [
        {
          "output_type": "execute_result",
          "data": {
            "text/plain": [
              "353973"
            ]
          },
          "metadata": {
            "tags": []
          },
          "execution_count": 5
        }
      ]
    },
    {
      "cell_type": "code",
      "metadata": {
        "id": "bT91pwoRLrh5",
        "colab_type": "code",
        "colab": {}
      },
      "source": [
        "#список иностранных слов\n",
        "\n",
        "with open(path + 'foreign_words.txt', 'r', encoding = 'utf-8') as n:\n",
        "    d = n.readlines()\n",
        "forn = [re.sub('\\n', '', x) for x in d]\n",
        "forn = [x for x in forn if len(x) > 1]\n",
        "for i in ['анил', 'анупа', 'ануп', 'крошу']:\n",
        "  forn.append(i)"
      ],
      "execution_count": 0,
      "outputs": []
    },
    {
      "cell_type": "code",
      "metadata": {
        "id": "CiThDmFyLz6O",
        "colab_type": "code",
        "colab": {}
      },
      "source": [
        "#AttributeError: 'NoneType' object has no attribute 'group' - это ок\n",
        "\n",
        "with open(path + 'dict.opcorpora.txt', 'r', encoding = 'utf-8') as n:\n",
        "    rus_words = []\n",
        "    lem_rus_words = []\n",
        "    d = n.read()\n",
        "    d = re.sub('\\n', ' ', d)\n",
        "    d = re.sub('\\t', ' ', d)\n",
        "    d = re.sub('(^|\\s)[0-9]+', '||', d)\n",
        "    parads = re.findall('\\|\\|[^\\|]+', d)\n",
        "    for par in parads:\n",
        "      try:\n",
        "        lem = re.search('\\|\\|\\s([А-Яа-яёЁ]+)', par).group(1)\n",
        "        if 'Ё' in lem:\n",
        "            lem = re.sub('Ё', 'Е', lem)\n",
        "            \n",
        "        if lem.lower() not in forn + sans:\n",
        "            lem_rus_words.append(lem.lower())\n",
        "            words = re.findall('[А-Яа-яЁё]+', par)\n",
        "            for w in words:\n",
        "                if 'Ё' in w:\n",
        "                    w = re.sub('Ё', 'Е', w)\n",
        "                rus_words.append(w.lower())\n",
        "      except AttributeError:\n",
        "        continue"
      ],
      "execution_count": 0,
      "outputs": []
    },
    {
      "cell_type": "code",
      "metadata": {
        "id": "7-BDo3Q5MEBZ",
        "colab_type": "code",
        "colab": {}
      },
      "source": [
        "rus_words.remove('даму')\n",
        "rus_words.remove('дама')\n",
        "rus_words.remove('кишку')\n",
        "rus_words.remove('пилу')\n",
        "rus_words.remove('руру')\n",
        "rus_words.remove('турья')\n",
        "\n",
        "cases = ['nomn', 'gent', 'datv', 'accs', 'ablt', 'loct']\n",
        "for case in cases:\n",
        "  list(rus_words).append(morph.parse('акт')[0].inflect({case}).word)\n",
        "\n",
        "rus_words = [x for x in rus_words if len(x) > 1]\n",
        "rus_words.append('и')\n",
        "rus_words = set(rus_words)"
      ],
      "execution_count": 0,
      "outputs": []
    },
    {
      "cell_type": "code",
      "metadata": {
        "id": "64q2HS7pPH9n",
        "colab_type": "code",
        "colab": {}
      },
      "source": [
        "lem_rus_words = set(lem_rus_words)"
      ],
      "execution_count": 0,
      "outputs": []
    },
    {
      "cell_type": "code",
      "metadata": {
        "id": "fR1liLSIMGk7",
        "colab_type": "code",
        "colab": {}
      },
      "source": [
        "sans_dict = [z for z in sans_dict if z not in lem_rus_words]"
      ],
      "execution_count": 0,
      "outputs": []
    },
    {
      "cell_type": "markdown",
      "metadata": {
        "id": "_Bb9JqrCM6QQ",
        "colab_type": "text"
      },
      "source": [
        "Разделение санскритизмов на 3 группы (по окончанию)"
      ]
    },
    {
      "cell_type": "code",
      "metadata": {
        "id": "cYjbZpMmM0vo",
        "colab_type": "code",
        "colab": {}
      },
      "source": [
        "indecl = []\n",
        "decl = []\n",
        "stem = []\n",
        "\n",
        "vows = ['а', 'я', 'ы']\n",
        "\n",
        "for i in sans + sans_dict:\n",
        "    if i.endswith('и') or i.endswith('у') or i.endswith('ю') or i.endswith('е') or i.endswith('о'):\n",
        "        indecl.append(i)\n",
        "    elif i[-1:] in vows:\n",
        "        decl.append((i[:-1], i))\n",
        "    else:\n",
        "        stem.append(i)\n",
        "\n",
        "indecl = set(indecl)\n",
        "stem = set(stem)"
      ],
      "execution_count": 0,
      "outputs": []
    },
    {
      "cell_type": "code",
      "metadata": {
        "id": "jSZ9ljUSNCQW",
        "colab_type": "code",
        "colab": {}
      },
      "source": [
        "#exep - список исключений\n",
        "\n",
        "preps = ['в', 'без', 'до', 'из', 'к', 'на', 'по', 'о', 'от', 'перед', 'при', 'через', 'с', 'у', 'за', 'над', 'об', 'под', 'про', 'для', 'ко', 'обо', 'ото', 'во', 'безо', 'передо', 'со', 'надо']\n",
        "prons = ['меня', 'нем', 'наш', 'наша', 'ваш', 'она', 'они', 'кто', 'что', 'ними', 'ней', 'наши', 'ваши', 'вашем', 'тот', 'та', 'те', 'той', 'нас', 'ней', 'нам', 'них', 'вас', 'вам']\n",
        "conjs = ['или', 'но', 'да', 'либо', 'ради', 'нет', 'да']\n",
        "advs = ['так', 'туда', 'как', 'тут', 'там', 'сами', 'сам', 'сама']\n",
        "\n",
        "exep = preps + prons + conjs + advs\n",
        "\n",
        "indecl = [x for x in indecl if x not in exep]"
      ],
      "execution_count": 0,
      "outputs": []
    },
    {
      "cell_type": "code",
      "metadata": {
        "id": "hhZ204CENCTs",
        "colab_type": "code",
        "colab": {}
      },
      "source": [
        "decl_d = {}\n",
        "stem_d = {}\n",
        "\n",
        "for i in list(set([x[0][:2] for x in decl])):\n",
        "  decl_d[i] = []\n",
        "\n",
        "for i in list(set([x[:2] for x in stem])):\n",
        "  stem_d[i] = []\n",
        "\n",
        "for i in decl:\n",
        "  decl_d[i[0][:2]].append(i)\n",
        "\n",
        "for i in stem:\n",
        "  stem_d[i[:2]].append(i)"
      ],
      "execution_count": 0,
      "outputs": []
    },
    {
      "cell_type": "markdown",
      "metadata": {
        "id": "hy93_3tfItfh",
        "colab_type": "text"
      },
      "source": [
        "Чтение файла с корпусом"
      ]
    },
    {
      "cell_type": "code",
      "metadata": {
        "id": "nU-_ZZR-83Ez",
        "colab_type": "code",
        "colab": {}
      },
      "source": [
        "with open(path + 'aranyakaparva_corpus2.txt', 'r', encoding = 'utf-8') as r:\n",
        "  corpus = r.read()"
      ],
      "execution_count": 0,
      "outputs": []
    },
    {
      "cell_type": "code",
      "metadata": {
        "id": "loqtHhFuFNc5",
        "colab_type": "code",
        "colab": {}
      },
      "source": [
        "parts = re.findall('(\\[[0-9]+-[0-9]+\\]|\\[[0-9]+\\])\\s+<\\!\\s--\\ssanskrit\\s-->\\s+([^+^<]*)\\s+<\\!\\s--\\srus\\s-->\\s+([^+^<^\\[]*)', corpus)"
      ],
      "execution_count": 0,
      "outputs": []
    },
    {
      "cell_type": "code",
      "metadata": {
        "id": "MWgPfugdFg3h",
        "colab_type": "code",
        "outputId": "16d3e7d8-1734-403b-b728-29385f925000",
        "colab": {
          "base_uri": "https://localhost:8080/",
          "height": 33
        }
      },
      "source": [
        "len(parts)"
      ],
      "execution_count": 0,
      "outputs": [
        {
          "output_type": "execute_result",
          "data": {
            "text/plain": [
              "2033"
            ]
          },
          "metadata": {
            "tags": []
          },
          "execution_count": 16
        }
      ]
    },
    {
      "cell_type": "markdown",
      "metadata": {
        "id": "hdPm1MWkIxMO",
        "colab_type": "text"
      },
      "source": [
        "Файлы соответствий санскритской латиницы кириллице"
      ]
    },
    {
      "cell_type": "code",
      "metadata": {
        "id": "KSrFxufSH2EN",
        "colab_type": "code",
        "colab": {}
      },
      "source": [
        "with open(path + 'translation.txt', 'r', encoding = 'utf-8') as t:\n",
        "    trans = t.readlines()"
      ],
      "execution_count": 0,
      "outputs": []
    },
    {
      "cell_type": "code",
      "metadata": {
        "id": "x9TKuiaQH4Py",
        "colab_type": "code",
        "colab": {}
      },
      "source": [
        "with open(path + 'correct_trans.txt', 'r', encoding = 'utf-8') as t:\n",
        "    c = t.readlines()"
      ],
      "execution_count": 0,
      "outputs": []
    },
    {
      "cell_type": "code",
      "metadata": {
        "id": "f-g_TDBhIUuZ",
        "colab_type": "code",
        "colab": {}
      },
      "source": [
        "d = {}\n",
        "d_combs = {}\n",
        "\n",
        "for i in trans:\n",
        "    if re.search('Replace\\s\"(.*?)\",\"(.*?)\"', i):\n",
        "        sans = re.search('Replace\\s\"(.*?)\",\"(.*?)\"', i).group(1)\n",
        "        rus = re.search('Replace\\s\"(.*?)\",\"(.*?)\"', i).group(2)\n",
        "        if len(rus) > 1:\n",
        "            d_combs[sans] = rus\n",
        "        else:\n",
        "            d[sans] = rus\n",
        "\n",
        "corr = {}\n",
        "\n",
        "for i in c:\n",
        "    if re.search('Replace\\s\"(.*?)\",\"(.*?)\"', i):\n",
        "        bad = re.search('Replace\\s\"(.*?)\",\"(.*?)\"', i).group(1)\n",
        "        good = re.search('Replace\\s\"(.*?)\",\"(.*?)\"', i).group(2)\n",
        "        corr[bad] = good "
      ],
      "execution_count": 0,
      "outputs": []
    },
    {
      "cell_type": "markdown",
      "metadata": {
        "id": "mG_nlTQqI3w-",
        "colab_type": "text"
      },
      "source": [
        "Функция перевода санскритской латиницы в кириллицу"
      ]
    },
    {
      "cell_type": "code",
      "metadata": {
        "id": "XwhbepzIIhfB",
        "colab_type": "code",
        "colab": {}
      },
      "source": [
        "def translate(s):\n",
        "    string = []\n",
        "    for word in s.split():\n",
        "        trans_word = []\n",
        "        for k, v in d_combs.items():\n",
        "            if k in word:\n",
        "              word = re.sub(k, d_combs[k], word)\n",
        "            \n",
        "        for letter in word:\n",
        "            if letter in d:\n",
        "                trans_word.append(d[letter])\n",
        "            else:\n",
        "                trans_word.append(letter)\n",
        "        trans_word = ''.join(trans_word)\n",
        "        # print(trans_word)\n",
        "        vs = ['а', 'я', 'ю', 'е', 'о', 'ы', 'и', 'у']\n",
        "        for k, v in corr.items():\n",
        "            if k in trans_word:\n",
        "              # print(k)\n",
        "              # print(v)\n",
        "              # #чтобы мягкий знак не удалялся между \"р\" и гласной (сурья, а не суря)\n",
        "              # check = False\n",
        "              # if k == 'ь':\n",
        "              #   arr = [i for i in trans_word]\n",
        "              #   for indx, i in enumerate(arr):\n",
        "              #     if i == 'р' and len(arr) - indx >= 3 and arr[indx+1] == 'ь' and arr[indx+2] in vs:\n",
        "              #       check = True\n",
        "              # elif check == False and k == 'ь':\n",
        "              #   trans_word = re.sub(k, corr[k], trans_word)\n",
        "              # else:\n",
        "              trans_word = re.sub(k, corr[k], trans_word)\n",
        "        trans_word = [re.sub('॥', '', x) for x in trans_word]\n",
        "        trans_word = [re.sub('[0-9]+', '', x) for x in trans_word]\n",
        "        trans_word = [re.sub('\\s+', '', x) for x in trans_word]\n",
        "        trans_word = ''.join(trans_word)\n",
        "        string.append(trans_word)\n",
        "    return string"
      ],
      "execution_count": 0,
      "outputs": []
    },
    {
      "cell_type": "code",
      "metadata": {
        "id": "NsOIKYqnaV7U",
        "colab_type": "code",
        "outputId": "a48e9ceb-fd63-4e76-d18d-bbf407e99761",
        "colab": {
          "base_uri": "https://localhost:8080/",
          "height": 33
        }
      },
      "source": [
        "a = [i for i in 'курья']\n",
        "vs = ['а', 'я', 'ю', 'е', 'о', 'ы', 'и', 'у']\n",
        "for indx, i in enumerate(a):\n",
        "  if i == 'р' and len(a) - indx >= 3 and a[indx+1] == 'ь' and a[indx+2] in vs:\n",
        "    print(1)"
      ],
      "execution_count": 0,
      "outputs": [
        {
          "output_type": "stream",
          "text": [
            "1\n"
          ],
          "name": "stdout"
        }
      ]
    },
    {
      "cell_type": "code",
      "metadata": {
        "id": "5_u0sQ7FiTWz",
        "colab_type": "code",
        "outputId": "1e1b0f52-3e97-4989-f82a-ddf87cb74895",
        "colab": {
          "base_uri": "https://localhost:8080/",
          "height": 67
        }
      },
      "source": [
        "print(translate('janamejaya'))\n",
        "print(translate('vaiśampāyana'))\n",
        "print(translate(\"sūryasyaiva\"))"
      ],
      "execution_count": 0,
      "outputs": [
        {
          "output_type": "stream",
          "text": [
            "['джанамеджая']\n",
            "['вайшампаяна']\n",
            "['сурясяйва']\n"
          ],
          "name": "stdout"
        }
      ]
    },
    {
      "cell_type": "markdown",
      "metadata": {
        "id": "m_rK9WOBRGvC",
        "colab_type": "text"
      },
      "source": [
        "Поиск соответствий"
      ]
    },
    {
      "cell_type": "code",
      "metadata": {
        "id": "P6GM0Ie0HJOD",
        "colab_type": "code",
        "outputId": "aa6604ef-b559-4425-b6b7-e9cb99a52f41",
        "colab": {
          "base_uri": "https://localhost:8080/",
          "height": 33
        }
      },
      "source": [
        "len(parts)"
      ],
      "execution_count": 0,
      "outputs": [
        {
          "output_type": "execute_result",
          "data": {
            "text/plain": [
              "2033"
            ]
          },
          "metadata": {
            "tags": []
          },
          "execution_count": 23
        }
      ]
    },
    {
      "cell_type": "code",
      "metadata": {
        "id": "Zq1pX_Z3lEj2",
        "colab_type": "code",
        "outputId": "0a0dbb85-2c03-4605-c10c-1284e6d8de3b",
        "colab": {
          "base_uri": "https://localhost:8080/",
          "height": 387
        }
      },
      "source": [
        "parts[21:28]"
      ],
      "execution_count": 0,
      "outputs": [
        {
          "output_type": "execute_result",
          "data": {
            "text/plain": [
              "[('[1-4]',\n",
              "  \"vaiśampāyana uvāca ।\\nśaunakenaivamuktastu kuntīputro yudhiṣṭhiraḥ ।\\npurohitamupāgamya bhrātṛmadhye'bravīdidam ॥1\\nprasthitaṃ mānuyāntīme brāhmaṇā vedapāragāḥ ।\\nna cāsmi pālane śakto bahuduḥkhasamanvitaḥ ॥2\\nparityaktuṃ na śaknomi dānaśaktiśca nāsti me ।\\nkathamatra mayā kāryaṃ bhagavāṃstadbravītu me ॥3\\nmuhūrtamiva sa dhyātvā dharmeṇānviṣya tāṃ gatim ।\\nyudhiṣṭhiramuvācedaṃ dhaumyo dharmabhṛtāṃ varaḥ ॥4\",\n",
              "  'Вайшампаяна сказал:\\nВыслушав речь Шаунаки, Юдхиштхира, сын Кунти, сопровождаемый братьями, пошел к своему родовому жрецу и сказал ему: «Не следовало бы этим брахманам, усвоившим (учение) Вед, сопровождать меня в моем изгнании. Многие беды постигли меня, и я не в силах обеспечить им защиту. И оставить их не могу, и даяниями поддерживать не способен. Как мне тут быть, да разъяснит почтенный!» На какое-то время Дхаумья, достойнейший из блюстителей закона, предался размышлениям, дабы найти путь, согласный с дхармой, а потом отвечал Юдхиштхире:\\n'),\n",
              " ('[5-12]',\n",
              "  \"purā sṛṣṭāni bhūtāni pīḍyante kṣudhayā bhṛśam ।\\ntato'nukampayā teṣāṃ savitā svapitā iva ॥5\\ngatvottarāyaṇaṃ tejorasānuddhṛtya raśmibhiḥ ।\\ndakṣiṇāyanamāvṛtto mahīṃ niviśate raviḥ ॥6\\nkṣetrabhūte tatastasminnoṣadhīroṣadhīpatiḥ ।\\ndivastejaḥ samuddhṛtya janayāmāsa vāriṇā ॥7\\nniṣiktaścandratejobhiḥ sūyate bhūgato raviḥ ।\\noṣadhyaḥ ṣaḍrasā medhyāstadannaṃ prāṇināṃ bhuvi ॥8\\nevaṃ bhānumayaṃ hyannaṃ bhūtānāṃ prāṇadhāraṇam ।\\npitaiṣa sarvabhūtānāṃ tasmāttaṃ śaraṇaṃ vraja ॥9\\nrājāno hi mahātmāno yonikarmaviśodhitāḥ ।\\nuddharanti prajāḥ sarvāstapa āsthāya puṣkalam ॥10\\nbhīmena kārtavīryeṇa vainyena nahuṣeṇa ca ।\\ntapoyogasamādhisthairuddhṛtā hyāpadaḥ prajāḥ ॥11\\ntathā tvamapi dharmātmankarmaṇā ca viśodhitaḥ ।\\ntapa āsthāya dharmeṇa dvijātīnbhara bhārata ॥12\",\n",
              "  '«Было время, когда все живые создания сильно страдали от голода (32). Тогда Савитар-Солнце, словно родной отец, проникся к ним состраданием. Двинувшись северным путем, собрал он своими лучами наделенную животворным теджасом влагу, а затем вернулся южным путем (33) и проник внутрь земли. Обернулся он полем-лоном, и в нем Царь растительности, согнав (в облака) весь теджас (паром носившийся) в поднебесье и (пролив вниз дождевую) влагу, породил растения. Оплодотворенное теджасом Месяца, пребывавшее в земле Солнце произвело (их) на свет; эти растения, наделенные шестью вкусовыми соками (34), пригодные для жертвы, и составляют пищу всех живых существ на земле. Воистину, пища всех наделенных жизнью существ сотворена из Солнца, потому оно и есть отец всех существ; к нему обратись за помощью! Все великие духом цари, возвысившиеся над грехом как благородством происхождения, так и собственными благими деяниями, поддерживают своих подданных, предаваясь высоким трудам подвижничества. Бхима, Картавирья, Вайнья и Нахуша оберегали народ свой от бед, пребывая в самадхи, (обретенном) деяниями подвижничества и йогой. Вот и ты, чей дух устремлен к дхарме, ты, возвысивший себя над грехом добрыми делами, предайся, как велит тебе дхарма, подвижничеству и тем обеспечь пропитание для брахманов!»\\n'),\n",
              " ('[13-14]',\n",
              "  'evamuktastu dhaumyena tatkālasadṛśaṃ vacaḥ ।\\ndharmarājo viśuddhātmā tapa ātiṣṭhaduttamam ॥13\\npuṣpopahārairbalibhirarcayitvā divākaram ।\\nyogamāsthāya dharmātmā vāyubhakṣo jitendriyaḥ ।\\ngāṅgeyaṃ vāryupaspṛśya prāṇāyāmena tasthivān ॥14',\n",
              "  'Вняв ко времени пришедшейся речи Дхаумьи, Царь справедливости, чистый духом Юдхиштхира предался суровейшему подвижничеству. Приношениями цветов и жертвенной пищи благочестивый царь воздал почести Творцу дня, а затем приступил к деяниям йоги. Восторжествовавший над чувствами, питающийся одним воздухом, он вошел в воды Ганги (35) и стал совершать пранаяму (36).\\n'),\n",
              " ('[15]',\n",
              "  'janamejaya uvāca ।\\nkathaṃ kurūṇāmṛṣabhaḥ sa tu rājā yudhiṣṭhiraḥ ।\\nviprārthamārādhitavānsūryamadbhutavikramam ॥15',\n",
              "  'Джанамеджая сказал:\\nКак же сумел тот бык-каурава, царь Юдхиштхира, радея о благе брахманов, умилостивить почитанием дивнодоблестного Сурью?\\n'),\n",
              " ('[16-17]',\n",
              "  'vaiśampāyana uvāca ।\\nśṛṇuṣvāvahito rājañśucirbhūtvā samāhitaḥ ।\\nkṣaṇaṃ ca kuru rājendra sarvaṃ vakṣyāmyaśeṣataḥ ॥16\\ndhaumyena tu yathā proktaṃ pārthāya sumahātmane ।\\nnāmnāmaṣṭaśataṃ puṇyaṃ tacchṛṇuṣva mahāmate ॥17',\n",
              "  'Вайшампаяна сказал:\\nО царь, соверши прежде необходимое очищение, сосредоточься и слушай внимательно. Не изволь торопить меня, и я изложу тебе все без единого упущения. Вот какие сто восемь (37) благостных имен бога сообщил Дхаумья величайшему духом Партхе; услышь их, о многомудрый!\\n'),\n",
              " ('[18-28]',\n",
              "  \"sūryo'ryamā bhagastvaṣṭā pūṣārkaḥ savitā raviḥ ।\\ngabhastimānajaḥ kālo mṛtyurdhātā prabhākaraḥ ॥18\\npṛthivyāpaśca tejaśca khaṃ vāyuśca parāyaṇam ।\\nsomo bṛhaspatiḥ śukro budho'ṅgāraka eva ca ॥19\\nindro vivasvāndīptāṃśuḥ śuciḥ śauriḥ śanaiścaraḥ ।\\nbrahmā viṣṇuśca rudraśca skando vaiśravaṇo yamaḥ ॥20\\nvaidyuto jāṭharaścāgniraindhanastejasāṃ patiḥ ।\\ndharmadhvajo vedakartā vedāṅgo vedavāhanaḥ ॥21\\nkṛtaṃ tretā dvāparaśca kaliḥ sarvāmarāśrayaḥ ।\\nkalā kāṣṭhā muhūrtāśca pakṣā māsā ṛtustathā ॥22\\nsaṃvatsarakaro'śvatthaḥ kālacakro vibhāvasuḥ ।\\npuruṣaḥ śāśvato yogī vyaktāvyaktaḥ sanātanaḥ ॥23\\nlokādhyakṣaḥ prajādhyakṣo viśvakarmā tamonudaḥ ।\\nvaruṇaḥ sāgaroṃ'śuśca jīmūto jīvano'rihā ॥24\\nbhūtāśrayo bhūtapatiḥ sarvabhūtaniṣevitaḥ ।\\nmaṇiḥ suvarṇo bhūtādiḥ kāmadaḥ sarvatomukhaḥ ॥25\\njayo viśālo varadaḥ śīghragaḥ prāṇadhāraṇaḥ ।\\ndhanvantarirdhūmaketurādidevo'diteḥ sutaḥ ॥26\\ndvādaśātmāravindākṣaḥ pitā mātā pitāmahaḥ ।\\nsvargadvāraṃ prajādvāraṃ mokṣadvāraṃ triviṣṭapam ॥27\\ndehakartā praśāntātmā viśvātmā viśvatomukhaḥ ।\\ncarācarātmā sūkṣmātmā maitreṇa vapuṣānvitaḥ ॥28\",\n",
              "  'Сурья, Арьяман, Бхага, Тваштри, Пушан, Арка, Савитар, Рави, Лучезарный, Нерожденный, Время, Смерть, Творец, Источник света, Земля и Воды, Сияние и Небо, Ветер, Вышний предел, Сома, Брихаспати, Шукра, Будха и Ангарака, Индра, Вивасван, Излучающий жар, Яркий, Шаури, или Тихоходящий, Брахма, Вишну, Рудра, Сканда, Вайшравана, Яма, Пламя молнии, Пламя чрева, Рождаемый топливом, Владыка всякого пыла, Знамя дхармы, Создатель Вед, Завершение Вед, Носитель Вед, Крита, Трета, Двапара и Кали, Прибежище всех бессмертных, Кала, Каштха и Мухурта, Пакша, Месяц и Время года, Творец года, (древо) Ашваттха, Колесо времени, Светообильный, Пуруша, Извечный, Владыка йоги, Явленно-непроявленный, Непреходящий, Блюститель мира, Блюститель твари, Всетворец, Гонитель тьмы, Варуна, Океан, Свет, Облако, Податель жизни, Губитель недругов, Прибежище тварей, Владыка тварей, Вместилище всех тварей, Сокровище, Злато, Первосущность, Исполнитель желаний, Всепребывающий, Победоносный, Превеликий, Податель даров, Быстроходящий, Источник жизненной силы, Дханвантари, Дымознаменный, Первобожество, Дитя Адити, Двенадцатисущный, Алолотосоокий, Отец, Мать, Прародитель, Врата неба, Врата творения, Врата спасения, Небо богов, Создатель плоти, Просветленный дух, Душа всего, Вездесущий, Душа подвижного и недвижимого, Тонкая сущность, Средоточие дружелюбия! (38)\\n'),\n",
              " ('[29-33]',\n",
              "  'etadvai kīrtanīyasya sūryasyaiva mahātmanaḥ ।\\nnāmnāmaṣṭaśataṃ puṇyaṃ śakreṇoktaṃ mahātmanā ॥29\\nśakrācca nāradaḥ prāpto dhaumyaśca tadanantaram ।\\ndhaumyādyudhiṣṭhiraḥ prāpya sarvānkāmānavāptavān ॥30\\nsurapitṛgaṇayakṣasevitaṃ hyasuraniśācarasiddhavanditam ।\\nvarakanakahutāśanaprabhaṃ tvamapi manasyabhidhehi bhāskaram ॥31\\nsūryodaye yastu samāhitaḥ paṭhetsa putralābhaṃ dhanaratnasañcayān ।\\nlabheta jātismaratāṃ sadā naraḥ smṛtiṃ ca medhāṃ ca sa vindate parām ॥32\\nimaṃ stavaṃ devavarasya yo naraḥ prakīrtayecchucisumanāḥ samāhitaḥ ।\\nsa mucyate śokadavāgnisāgarāllabheta kāmānmanasā yathepsitān ॥33',\n",
              "  'Эти сто восемь святых имен великого духом, достославного Сурьи возвестил некогда великий духом Шакра; от Шакры узнал их Нарада, от него – Дхаумья, а Юдхиштхира, приняв их (знание) от Дхаумьи, обрел исполнение всех желаний. Помести же в сердце своем того, кто почитаем богами, питарами, ганами и якшами, того, кто восхваляем нишачарами, сиддхами, асурами, того, кто сияет, подобно Вкусителю жертв, как чистое золото – (блистательного) Бхаскару! Каждый, кто при восходе солнца, погрузившись в созерцание, повторит (эти имена), да обретет мужское потомство, груды золота и дорогих камней, воспоминания о всех прежних своих рождениях, легкость усвоения и твердость памяти. Каждый человек с чистым и добрым сердцем, который, предавшись созерцанию, вознесет эту хвалу наилучшему из богов, да спасется от тоски, лесного пожара и водной пучины, да обретет исполнение всех заветных, лелеемых в сердце желаний!\\nТакова в книге «Лесная» великой «Махабхараты» третья глава.\\nГЛАВА 4\\n')]"
            ]
          },
          "metadata": {
            "tags": []
          },
          "execution_count": 24
        }
      ]
    },
    {
      "cell_type": "code",
      "metadata": {
        "id": "O7YA8lpfZCjC",
        "colab_type": "code",
        "outputId": "e024fb7c-0ce3-487a-d1b3-15d749833ab0",
        "colab": {
          "base_uri": "https://localhost:8080/",
          "height": 103
        }
      },
      "source": [
        "[x[1] for x in parts[11:15]]"
      ],
      "execution_count": 0,
      "outputs": [
        {
          "output_type": "execute_result",
          "data": {
            "text/plain": [
              "['brāhmaṇā ūcuḥ ।\\nasmatpoṣaṇajā cintā mā bhūtte hṛdi pārthiva ।\\nsvayamāhṛtya vanyāni anuyāsyāmahe vayam ॥10\\nanudhyānena japyena vidhāsyāmaḥ śivaṃ tava ।\\nkathābhiścānukūlābhiḥ saha raṃsyāmahe vane ॥11',\n",
              " \"yudhiṣṭhira uvāca ।\\nevametanna sandeho rameyaṃ brāhmaṇaiḥ saha ।\\nnyūnabhāvāttu paśyāmi pratyādeśamivātmanaḥ ॥12\\nkathaṃ drakṣyāmi vaḥ sarvānsvayamāhṛtabhojanān ।\\nmadbhaktyā kliśyato'narhāndhikpāpāndhṛtarāṣṭrajān ॥13\",\n",
              " 'vaiśampāyana uvāca ।\\nityuktvā sa nṛpaḥ śocanniṣasāda mahītale ।\\ntamadhyātmaratirvidvāñśaunako nāma vai dvijaḥ ।\\nyoge sāṅkhye ca kuśalo rājānamidamabravīt ॥14\\nśokasthānasahasrāṇi bhayasthānaśatāni ca ।\\ndivase divase mūḍhamāviśanti na paṇḍitam ॥15\\nna hi jñānaviruddheṣu bahudoṣeṣu karmasu ।\\nśreyoghātiṣu sajjante buddhimanto bhavadvidhāḥ ॥16\\naṣṭāṅgāṃ buddhimāhuryāṃ sarvāśreyovighātinīm ।\\nśrutismṛtisamāyuktāṃ sā rājaṃstvayyavasthitā ॥17\\narthakṛcchreṣu durgeṣu vyāpatsu svajanasya ca ।\\nśārīramānasairduḥkhairna sīdanti bhavadvidhāḥ ॥18\\nśrūyatāṃ cābhidhāsyāmi janakena yathā purā ।\\nātmavyavasthānakarā gītāḥ ślokā mahātmanā ॥19',\n",
              " 'manodehasamutthābhyāṃ duḥkhābhyāmarditaṃ jagat ।\\ntayorvyāsasamāsābhyāṃ śamopāyamimaṃ śṛṇu ॥20\\nvyādheraniṣṭasaṃsparśācchramādiṣṭavivarjanāt ।\\nduḥkhaṃ caturbhiḥ śārīraṃ kāraṇaiḥ sampravartate ॥21\\ntadāśupratikārācca satataṃ cāvicintanāt ।\\nādhivyādhipraśamanaṃ kriyāyogadvayena tu ॥22\\nmatimanto hyato vaidyāḥ śamaṃ prāgeva kurvate ।\\nmānasasya priyākhyānaiḥ sambhogopanayairnṛṇām ॥23\\nmānasena hi duḥkhena śarīramupatapyate ।\\nayaḥpiṇḍena taptena kumbhasaṃsthamivodakam ॥24\\nmānasaṃ śamayettasmājjñānenāgnimivāmbunā ।\\npraśānte mānase duḥkhe śārīramupaśāmyati ॥25']"
            ]
          },
          "metadata": {
            "tags": []
          },
          "execution_count": 41
        }
      ]
    },
    {
      "cell_type": "code",
      "metadata": {
        "id": "KIKdRd7eInjJ",
        "colab_type": "code",
        "colab": {}
      },
      "source": [
        "def search(corpus):\n",
        "\n",
        "  res = []\n",
        "  count = 0\n",
        "\n",
        "  reg_space = re.compile('\\s{2,}', re.DOTALL)\n",
        "  reg_punct = re.compile('[^\\w\\s]', re.DOTALL)\n",
        "  found = []\n",
        "  for part in parts[21:28]:\n",
        "    count += 1\n",
        "    print(count)\n",
        "    number = part[0]\n",
        "    rus_part = part[2]\n",
        "    sans_part = part[1]\n",
        "\n",
        "    upper_words = []\n",
        "    #found = []\n",
        "    \n",
        "    #так только 1776 нашлось\n",
        "    # for indx, word in enumerate(sans_part.split()):\n",
        "    #   cyr_sans = translate(word)\n",
        "    #   for idx, rus in enumerate(rus_part.split()):\n",
        "    #     if re.search('[а-яА-Я]+', cyr_sans[0]) and len(cyr_sans[0]) > 3 and rus.startswith(cyr_sans[0][:-1]):\n",
        "    #       found.append((number, [indx, word], [idx, rus]))\n",
        "\n",
        "    vs = ['а', 'я', 'ю', 'е', 'о', 'ы', 'и', 'у']\n",
        "\n",
        "    # text = rus_part\n",
        "\n",
        "    text = re.sub(r'\\d', '', rus_part)\n",
        "    text = re.sub(r'\\n', ' ', text)\n",
        "    text = re.sub(r'[A-Za-z]', '', text)\n",
        "\n",
        "    if re.search(reg_punct, text):\n",
        "        text = re.sub(reg_punct, ' ', text)\n",
        "      \n",
        "    if re.search(reg_space, text):\n",
        "        text = re.sub(reg_space, ' ', text)\n",
        "\n",
        "    for indx, word in enumerate(text.split()):\n",
        "        f = False\n",
        "\n",
        "        # word = re.sub(r'\\d', '', word)\n",
        "        # word = re.sub(r'\\n', ' ', word)\n",
        "        # word = re.sub(r'[A-Za-z]', '', word)\n",
        "\n",
        "        # if re.search(reg_punct, word):\n",
        "        #     word = re.sub(reg_punct, '', word)\n",
        "\n",
        "        # if word == '':\n",
        "        #   continue\n",
        "\n",
        "        if word[0].isupper() == True and indx > 0:\n",
        "          upper_words.append((word.lower(), indx))\n",
        "        word = word.lower()\n",
        "        if word in indecl and word not in rus_words and word not in exep:\n",
        "            found.append((word, indx))\n",
        "          \n",
        "        #список склоняемых санскритизмов, заканчивающихся на гласную\n",
        "        elif word[:2] in decl_d:\n",
        "          if word in [x[1] for x in decl_d[word[:2]]] and word not in exep and word not in rus_words:\n",
        "              found.append((word, indx))\n",
        "              f = True\n",
        "          else:\n",
        "            for i in decl_d[word[:2]]:\n",
        "                s = i[0]\n",
        "                if word.startswith(s) and word[-1] in vs and len(word) - len(s) == 1 and word not in exep and word not in rus_words:\n",
        "                    found.append((word, indx))\n",
        "                    f = True\n",
        "                elif len(word) > 2 and word.startswith(s) and word[-3] in vs and word.endswith('ми') and len(word) - len(s) == 3 and word not in exep and word not in rus_words:\n",
        "                    found.append((word, indx))\n",
        "                    f = True\n",
        "                elif len(word) > 1 and word.startswith(s) and word[-2] in vs and word.endswith('м') and len(word) - len(s) == 2 and word not in exep and word not in rus_words:\n",
        "                    found.append((word, indx))\n",
        "                    f = True\n",
        "                elif len(word) > 1 and word.startswith(s) and word[-2] in vs and word.endswith('в') and len(word) - len(s) == 2 and word not in exep and word not in rus_words:\n",
        "                    found.append((word, indx))\n",
        "                    f = True\n",
        "                elif len(word) > 1 and word.startswith(s) and word[-2] in vs and word.endswith('й') and len(word) - len(s) == 2 and word not in exep and word not in rus_words:\n",
        "                    found.append((word, indx))\n",
        "                    f = True\n",
        "                elif len(word) > 1 and word.startswith(s) and word[-2] in vs and word.endswith('х') and len(word) - len(s) == 2 and word not in exep and word not in rus_words:\n",
        "                    found.append((word, indx))\n",
        "                    f = True\n",
        "\n",
        "        if f == False and word[:2] in stem_d:\n",
        "          if word in [x for x in stem_d[word[:2]]] and word not in exep and word not in rus_words:\n",
        "            found.append((word, indx))\n",
        "          else:\n",
        "            for s in stem_d[word[:2]]:\n",
        "                if word.startswith(s) and word[-1] != 'ь' and len(word) - len(s) <= 1 and word not in exep and word not in rus_words:\n",
        "                    found.append((word, indx))\n",
        "                elif len(word) > 2 and word.startswith(s) and word[-3] in vs and word.endswith('ми') and len(word) - len(s) == 3 and word not in exep and word not in rus_words:\n",
        "                    found.append((word, indx))\n",
        "                elif len(word) > 1 and word.startswith(s) and word[-2] in vs and word.endswith('м') and len(word) - len(s) == 2 and word not in exep and word not in rus_words:\n",
        "                    found.append((word, indx))\n",
        "                elif len(word) > 1 and word.startswith(s) and word[-2] in vs and word.endswith('в') and len(word) - len(s) == 2 and word not in exep and word not in rus_words:\n",
        "                    found.append((word, indx))\n",
        "                elif len(word) > 1 and word.startswith(s) and word[-2] in vs and word.endswith('й') and len(word) - len(s) == 2 and word not in exep and word not in rus_words:\n",
        "                    found.append((word, indx))\n",
        "                elif len(word) > 1 and word.startswith(s) and word[-2] in vs and word.endswith('х') and len(word) - len(s) == 2 and word not in exep and word not in rus_words:\n",
        "                    found.append((word, indx))\n",
        "\n",
        "    for i in upper_words:\n",
        "      word = i[0]\n",
        "      for s in sans:\n",
        "          if word.startswith(s) and word[-1] != 'ь' and len(word) - len(s) <= 1 and word not in exep:\n",
        "              found.append((word, indx))\n",
        "          elif word.startswith(s) and word.endswith('ми') and len(word) - len(s) == 3 and word not in exep:\n",
        "              found.append((word, indx))\n",
        "          elif word.startswith(s) and word.endswith('м') and len(word) - len(s) == 2 and word not in exep:\n",
        "              found.append((word, indx))\n",
        "          elif word.startswith(s) and word.endswith('в') and len(word) - len(s) == 2 and word not in exep:\n",
        "              found.append((word, indx))\n",
        "          elif word.startswith(s) and word.endswith('й') and len(word) - len(s) == 2 and word not in exep:\n",
        "              found.append((word, indx))\n",
        "          elif word.startswith(s) and word.endswith('х') and len(word) - len(s) == 2 and word not in exep:\n",
        "              found.append((word, indx))\n",
        "\n",
        "    indxs = set()\n",
        "    indxr = set()\n",
        "\n",
        "    # text = sans_part\n",
        "\n",
        "    text = re.sub(r'\\d', '', sans_part)\n",
        "    if \"'\" in text:\n",
        "      text = re.sub(\"'\", \" a\", text)\n",
        "    text = re.sub(r'\\n', ' ', text)\n",
        "\n",
        "    if re.search(reg_punct, text):\n",
        "        text = re.sub(reg_punct, ' ', text)\n",
        "      \n",
        "    if re.search(reg_space, text):\n",
        "        text = re.sub(reg_space, ' ', text)\n",
        "\n",
        "    for indx, word in enumerate(text.split()):\n",
        "\n",
        "      # word = re.sub(r'\\d', '', word)\n",
        "      # if \"'\" in word:\n",
        "      #   word = re.sub(\"'\", \" a\", word)\n",
        "      # word = re.sub(r'\\n', ' ', word)\n",
        "\n",
        "      # if re.search(reg_punct, word):\n",
        "      #     word = re.sub(reg_punct, '', word)\n",
        "\n",
        "      # if word == '':\n",
        "      #   continue\n",
        "\n",
        "      def proc_short(sans, rus, flex):\n",
        "        s = translate(sans)[0]\n",
        "        if s.startswith(rus[:-flex]):\n",
        "          if len(sans) - len(rus) < 4:\n",
        "            res = sans\n",
        "          else:\n",
        "            t = sans[:len(rus)]\n",
        "            if translate(t[-1])[0] == s[:len(rus)][-1]:\n",
        "              res = t\n",
        "            else:\n",
        "              t = sans[:len(rus) + 1]\n",
        "              res = t\n",
        "          return res\n",
        "\n",
        "      def proc_long(sans, rus):\n",
        "        s = translate(sans)[0]\n",
        "        if rus[:-1] in s:\n",
        "          start = s.find(rus[:-1])\n",
        "          end = start + len(rus)\n",
        "          if s[start:end] == rus:\n",
        "            cut = sans[start:end]\n",
        "          elif s[start:end][:-1] == rus[:-1]:\n",
        "            cut = sans[start:end]\n",
        "          elif s[start+1:end+1] == rus:\n",
        "            cut = sans[start+1:end+1]\n",
        "          elif s[start-1:end-1] == rus:\n",
        "            cut = sans[start-1:end-1]\n",
        "          else:\n",
        "            cut = sans[start:end]\n",
        "          return cut\n",
        "\n",
        "\n",
        "      if re.search('[a-z]', word):\n",
        "        rus_sans = translate(word)\n",
        "        # print(word)\n",
        "        # print(rus_sans)\n",
        "        for i in found:\n",
        "          s = i[0]\n",
        "          if 'ь' in s:\n",
        "            s = re.sub('ь', '', s)\n",
        "          if len(indxs) > 0 and (indx, word) not in indxs and (i[1], i[0]) not in indxr and rus_sans[0].startswith(s[:-1]):\n",
        "            part = proc_short(word, s, 1)\n",
        "            # print('PART' + part)\n",
        "            res.append((number, [indx, part], [i[1], i[0]]))\n",
        "            indxs.add((indx, word))\n",
        "            indxr.add((i[1], i[0]))\n",
        "            print((number, [indx, part], [i[1], i[0]]))\n",
        "          elif i[0].endswith('й') or i[0].endswith('м') or i[0].endswith('в') or i[0].endswith('х'):\n",
        "            if len(indxs) > 0 and (indx, word) not in indxs and (i[1], i[0]) not in indxr and rus_sans[0].startswith(s[:-2]):\n",
        "              part = proc_short(word, s, 2)\n",
        "              res.append((number, [indx, part], [i[1], i[0]]))\n",
        "              indxs.add((indx, word))\n",
        "              indxr.add((i[1], i[0]))\n",
        "              print((number, [indx, part], [i[1], i[0]]))\n",
        "            elif len(indxs) == 0 and rus_sans[0].startswith(s[:-2]):\n",
        "              part = proc_short(word, s, 2)\n",
        "              res.append((number, [indx, part], [i[1], i[0]]))\n",
        "              indxs.add((indx, word))\n",
        "              indxr.add((i[1], i[0]))\n",
        "              print((number, [indx, part], [i[1], i[0]]))\n",
        "          elif i[0].endswith('ми'):\n",
        "            if len(indxs) > 0 and (indx, word) not in indxs and (i[1], i[0]) not in indxr and rus_sans[0].startswith(s[:-3]):\n",
        "              part = proc_short(word, s, 3)\n",
        "              res.append((number, [indx, part], [i[1], i[0]]))\n",
        "              indxs.add((indx, word))\n",
        "              indxr.add((i[1], i[0]))\n",
        "              print((number, [indx, part], [i[1], i[0]]))\n",
        "            elif len(indxs) == 0 and rus_sans[0].startswith(s[:-3]):\n",
        "              part = proc_short(word, s, 3)\n",
        "              res.append((number, [indx, part], [i[1], i[0]]))\n",
        "              indxs.add((indx, word))\n",
        "              indxr.add((i[1], i[0]))\n",
        "              print((number, [indx, part], [i[1], i[0]]))\n",
        "          #чтоб в \"сурапитриганаякшасевитан\" находились \"ганы\" и \"якши\"\n",
        "          elif len(indxs) > 0 and (indx, word) not in indxs and (i[1], i[0]) not in indxr and s[:-1] in rus_sans[0]:\n",
        "              part = proc_long(word, s)\n",
        "              res.append((number, [indx, part], [i[1], i[0]]))\n",
        "              indxs.add((indx, word))\n",
        "              indxr.add((i[1], i[0]))\n",
        "              print('new' + str((number, [indx, part], [i[1], i[0]])))\n",
        "          elif len(indxs) == 0 and rus_sans[0].startswith(s[:-1]):\n",
        "            part = proc_short(word, s, 1)\n",
        "            res.append((number, [indx, part], [i[1], i[0]]))\n",
        "            indxs.add((indx, word))\n",
        "            indxr.add((i[1], i[0]))\n",
        "            print((number, [indx, part], [i[1], i[0]]))\n",
        "\n",
        "  return res, found"
      ],
      "execution_count": 0,
      "outputs": []
    },
    {
      "cell_type": "code",
      "metadata": {
        "id": "LCche7U2oj2i",
        "colab_type": "code",
        "outputId": "00167ba3-9e8c-4d03-d398-b3b0baa84026",
        "colab": {
          "base_uri": "https://localhost:8080/",
          "height": 1000
        }
      },
      "source": [
        "%%time\n",
        "res, found = search(parts)"
      ],
      "execution_count": 0,
      "outputs": [
        {
          "output_type": "stream",
          "text": [
            "1\n",
            "('[1-4]', [0, 'vaiśampāyana'], [0, 'вайшампаяна'])\n",
            "('[1-4]', [2, 'śaunake'], [4, 'шаунаки'])\n",
            "('[1-4]', [3, 'kuntī'], [7, 'кунти'])\n",
            "('[1-4]', [4, 'yudhiṣṭhiraḥ'], [5, 'юдхиштхира'])\n",
            "('[1-4]', [10, 'brāhmaṇā'], [22, 'брахманам'])\n",
            "('[1-4]', [31, 'dharmeṇ'], [76, 'дхармой'])\n",
            "('[1-4]', [34, 'yudhiṣṭhira'], [80, 'юдхиштхире'])\n",
            "('[1-4]', [35, 'dhaumyo'], [64, 'дхаумья'])\n",
            "2\n",
            "('[5-12]', [9, 'savitā'], [11, 'савитар'])\n",
            "new('[5-12]', [21, 'tejaḥ'], [53, 'теджас'])\n",
            "('[5-12]', [53, 'bhīmena'], [136, 'бхима'])\n",
            "('[5-12]', [54, 'kārtavīryeṇa'], [137, 'картавирья'])\n",
            "('[5-12]', [55, 'vainyena'], [138, 'вайнья'])\n",
            "('[5-12]', [56, 'nahuṣeṇa'], [140, 'нахуша'])\n",
            "new('[5-12]', [58, 'samādhi'], [148, 'самадхи'])\n",
            "('[5-12]', [63, 'dharmāt'], [76, 'дхармой'])\n",
            "('[5-12]', [68, 'dharmeṇa'], [161, 'дхарме'])\n",
            "3\n",
            "('[13-14]', [1, 'dhaumyena'], [64, 'дхаумья'])\n",
            "('[13-14]', [4, 'dharmarājo'], [76, 'дхармой'])\n",
            "('[13-14]', [11, 'dharmātmā'], [161, 'дхарме'])\n",
            "('[13-14]', [16, 'prāṇāyāmena'], [45, 'пранаяму'])\n",
            "4\n",
            "('[15]', [0, 'janamejaya'], [0, 'джанамеджая'])\n",
            "('[15]', [7, 'yudhiṣṭhiraḥ'], [5, 'юдхиштхира'])\n",
            "new('[15]', [8, 'sūry'], [17, 'сурью'])\n",
            "5\n",
            "('[16-17]', [0, 'vaiśampāyana'], [0, 'вайшампаяна'])\n",
            "('[16-17]', [11, 'dhaumyena'], [64, 'дхаумья'])\n",
            "('[16-17]', [15, 'pārthāya'], [35, 'партхе'])\n",
            "6\n",
            "('[18-28]', [0, 'sūryo'], [17, 'сурью'])\n",
            "('[18-28]', [1, 'aryamā'], [1, 'арьяман'])\n",
            "('[18-28]', [2, 'bhaga'], [2, 'бхага'])\n",
            "('[18-28]', [3, 'pūṣārkaḥ'], [4, 'пушан'])\n",
            "('[18-28]', [4, 'savitā'], [11, 'савитар'])\n",
            "('[18-28]', [5, 'raviḥ'], [7, 'рави'])\n",
            "('[18-28]', [11, 'tejaśca'], [53, 'теджас'])\n",
            "('[18-28]', [16, 'bṛhaspatiḥ'], [25, 'брихаспати'])\n",
            "('[18-28]', [17, 'śukro'], [26, 'шукра'])\n",
            "('[18-28]', [18, 'budho'], [27, 'будха'])\n",
            "('[18-28]', [19, 'aṅgāraka'], [29, 'ангарака'])\n",
            "('[18-28]', [22, 'indro'], [30, 'индра'])\n",
            "('[18-28]', [23, 'vivasvān'], [31, 'вивасван'])\n",
            "('[18-28]', [25, 'śauriḥ'], [35, 'шаури'])\n",
            "('[18-28]', [27, 'brahmā'], [38, 'брахма'])\n",
            "('[18-28]', [28, 'viṣṇuśca'], [39, 'вишну'])\n",
            "('[18-28]', [29, 'rudraśca'], [40, 'рудра'])\n",
            "('[18-28]', [30, 'skando'], [41, 'сканда'])\n",
            "('[18-28]', [31, 'vaiśravaṇo'], [42, 'вайшравана'])\n",
            "('[18-28]', [36, 'dharmad'], [76, 'дхармой'])\n",
            "('[18-28]', [41, 'tretā'], [62, 'трета'])\n",
            "('[18-28]', [42, 'dvāparaśca'], [63, 'двапара'])\n",
            "('[18-28]', [46, 'kāṣṭhā'], [70, 'каштха'])\n",
            "('[18-28]', [47, 'muhūrtāśca'], [72, 'мухурта'])\n",
            "('[18-28]', [48, 'pakṣā'], [73, 'пакша'])\n",
            "('[18-28]', [52, 'aśvatthaḥ'], [81, 'ашваттха'])\n",
            "('[18-28]', [55, 'puruṣaḥ'], [85, 'пуруша'])\n",
            "('[18-28]', [64, 'varuṇaḥ'], [99, 'варуна'])\n",
            "('[18-28]', [83, 'dhanvantari'], [128, 'дханвантари'])\n",
            "('[18-28]', [84, 'aditeḥ'], [132, 'адити'])\n",
            "7\n",
            "('[29-33]', [2, 'sūrya'], [17, 'сурью'])\n",
            "('[29-33]', [6, 'śakre'], [13, 'шакра'])\n",
            "('[29-33]', [8, 'śakrācca'], [15, 'шакры'])\n",
            "('[29-33]', [9, 'nāradaḥ'], [18, 'нарада'])\n",
            "('[29-33]', [11, 'dhaumya'], [64, 'дхаумья'])\n",
            "new('[29-33]', [13, 'dyudhiṣṭhi'], [5, 'юдхиштхира'])\n",
            "('[29-33]', [16, 'sura'], [0, 'сурья'])\n",
            "new('[29-33]', [17, 'asur'], [8, 'сурьи'])\n",
            "('[29-33]', [21, 'bhāskaram'], [62, 'бхаскару'])\n",
            "CPU times: user 3.77 s, sys: 6.86 ms, total: 3.77 s\n",
            "Wall time: 3.78 s\n"
          ],
          "name": "stdout"
        }
      ]
    },
    {
      "cell_type": "markdown",
      "metadata": {
        "id": "LfYrVBBs1LhD",
        "colab_type": "text"
      },
      "source": [
        "Длинные слова, после того, как в них нашлось какое-то имя, не должны отбрасываться, а обрабатываться дальше, потому что в них могут быть еще другие имена. - ДОДЕЛАТЬ"
      ]
    },
    {
      "cell_type": "code",
      "metadata": {
        "id": "IgijbAm8Uzu9",
        "colab_type": "code",
        "outputId": "338fb119-86d6-42f7-ff43-5c840debcaa3",
        "colab": {
          "base_uri": "https://localhost:8080/",
          "height": 35
        }
      },
      "source": [
        "#'юдхиштхирамувачедан'\n",
        "# sans = 'yudhiṣṭhiramuvācedaṃ'\n",
        "# rus = 'юдхиштхире'\n",
        "sans = 'śaunakenaivamuktastu'\n",
        "rus = 'шаунаки'\n",
        "s = translate(sans)[0]\n",
        "\n",
        "if s.startswith(rus[:-1]):\n",
        "  if len(sans) - len(rus) < 4:\n",
        "    print(sans)\n",
        "  else:\n",
        "    t = sans[:len(rus)]\n",
        "    if translate(t[-1])[0] == s[:len(rus)][-1]:\n",
        "      print(t)\n",
        "    # elif translate(t[-1])[0] == s[:len(rus)][-1]:\n",
        "    #   print(t)\n",
        "    else:\n",
        "      t = sans[:len(rus) + 1]\n",
        "      if translate(t[-1])[0] == s[:len(rus)][-1]:\n",
        "        print(t)\n",
        "      else:\n",
        "        print('else' + t)"
      ],
      "execution_count": 0,
      "outputs": [
        {
          "output_type": "stream",
          "text": [
            "śaunake\n"
          ],
          "name": "stdout"
        }
      ]
    },
    {
      "cell_type": "code",
      "metadata": {
        "colab_type": "code",
        "outputId": "e9f04d22-badb-43d8-935f-248493cf3b1c",
        "id": "RBZmP5atesgo",
        "colab": {
          "base_uri": "https://localhost:8080/",
          "height": 35
        }
      },
      "source": [
        "sans = 'dhanvantarirdhūmaketurādidevo'\n",
        "rus = 'дханвантари'\n",
        "s = translate(sans)[0]\n",
        "\n",
        "if rus[:-1] in s:\n",
        "  start = s.find(rus[:-1])\n",
        "  end = start + len(rus)\n",
        "  if s[start:end] == rus:\n",
        "    cut = sans[start:end]\n",
        "    print(cut)\n",
        "  elif s[start:end][:-1] == rus[:-1]:\n",
        "    cut = sans[start:end]\n",
        "    print(cut)\n",
        "  elif s[start+1:end+1] == rus:\n",
        "    cut = sans[start:end]\n",
        "    print(cut)\n",
        "  elif s[start-1:end-1] == rus:\n",
        "    cut = sans[start:end]\n",
        "    print(cut)\n",
        "  else:\n",
        "    print('else' + cut)"
      ],
      "execution_count": 0,
      "outputs": [
        {
          "output_type": "stream",
          "text": [
            "dhanvantari\n"
          ],
          "name": "stdout"
        }
      ]
    },
    {
      "cell_type": "code",
      "metadata": {
        "id": "GnY1ki_SdAQi",
        "colab_type": "code",
        "outputId": "673ed30b-95c7-49af-83a1-2997f2d64ded",
        "colab": {
          "base_uri": "https://localhost:8080/",
          "height": 33
        }
      },
      "source": [
        "len(res)"
      ],
      "execution_count": 0,
      "outputs": [
        {
          "output_type": "execute_result",
          "data": {
            "text/plain": [
              "66"
            ]
          },
          "metadata": {
            "tags": []
          },
          "execution_count": 27
        }
      ]
    },
    {
      "cell_type": "markdown",
      "metadata": {
        "id": "49IlTD7-2xQ5",
        "colab_type": "text"
      },
      "source": [
        "**Раскрашиваем санскритизмы в тексте**"
      ]
    },
    {
      "cell_type": "code",
      "metadata": {
        "id": "l2RamRIDjE2a",
        "colab_type": "code",
        "outputId": "b13ed8fb-cd71-400a-d858-142fe8893211",
        "colab": {
          "base_uri": "https://localhost:8080/",
          "height": 33
        }
      },
      "source": [
        "parts[21][0]"
      ],
      "execution_count": 0,
      "outputs": [
        {
          "output_type": "execute_result",
          "data": {
            "text/plain": [
              "'[1-4]'"
            ]
          },
          "metadata": {
            "tags": []
          },
          "execution_count": 60
        }
      ]
    },
    {
      "cell_type": "code",
      "metadata": {
        "id": "6f-3B-owjC83",
        "colab_type": "code",
        "outputId": "0b80fdbd-1de5-4217-86c9-648856451559",
        "colab": {
          "base_uri": "https://localhost:8080/",
          "height": 164
        }
      },
      "source": [
        "[x for x in res if x[0] == parts[21][0]]"
      ],
      "execution_count": 0,
      "outputs": [
        {
          "output_type": "execute_result",
          "data": {
            "text/plain": [
              "[('[1-4]', [0, 'vaiśampāyana'], [0, 'вайшампаяна']),\n",
              " ('[1-4]', [2, 'śaunake'], [4, 'шаунаки']),\n",
              " ('[1-4]', [3, 'kuntī'], [7, 'кунти']),\n",
              " ('[1-4]', [4, 'yudhiṣṭhiraḥ'], [5, 'юдхиштхира']),\n",
              " ('[1-4]', [10, 'brāhmaṇā'], [22, 'брахманам']),\n",
              " ('[1-4]', [31, 'dharmeṇ'], [76, 'дхармой']),\n",
              " ('[1-4]', [34, 'yudhiṣṭhira'], [80, 'юдхиштхире']),\n",
              " ('[1-4]', [35, 'dhaumyo'], [64, 'дхаумья'])]"
            ]
          },
          "metadata": {
            "tags": []
          },
          "execution_count": 150
        }
      ]
    },
    {
      "cell_type": "code",
      "metadata": {
        "id": "28p3qHixlZI9",
        "colab_type": "code",
        "outputId": "d4a9bc5f-320f-42d3-a2c1-0af6c0c95bbc",
        "colab": {
          "base_uri": "https://localhost:8080/",
          "height": 53
        }
      },
      "source": [
        "parts[21][1]"
      ],
      "execution_count": 0,
      "outputs": [
        {
          "output_type": "execute_result",
          "data": {
            "text/plain": [
              "\"vaiśampāyana uvāca ।\\nśaunakenaivamuktastu kuntīputro yudhiṣṭhiraḥ ।\\npurohitamupāgamya bhrātṛmadhye'bravīdidam ॥1\\nprasthitaṃ mānuyāntīme brāhmaṇā vedapāragāḥ ।\\nna cāsmi pālane śakto bahuduḥkhasamanvitaḥ ॥2\\nparityaktuṃ na śaknomi dānaśaktiśca nāsti me ।\\nkathamatra mayā kāryaṃ bhagavāṃstadbravītu me ॥3\\nmuhūrtamiva sa dhyātvā dharmeṇānviṣya tāṃ gatim ।\\nyudhiṣṭhiramuvācedaṃ dhaumyo dharmabhṛtāṃ varaḥ ॥4\""
            ]
          },
          "metadata": {
            "tags": []
          },
          "execution_count": 67
        }
      ]
    },
    {
      "cell_type": "code",
      "metadata": {
        "id": "t67boBEli_ZR",
        "colab_type": "code",
        "colab": {}
      },
      "source": [
        "def highlight(parts, res):\n",
        "\n",
        "    colors = ['hotpink', 'peru', 'navy', 'orangered', 'darkslateblue', 'purple', 'seagreen', 'salmon', 'khaki', 'brown', 'gold', 'maroon', 'teal', 'sandybrown', 'darkgreen', 'magenta', 'olive', 'darkred', 'rosybrown']\n",
        "    \n",
        "    # keywords to be colored\n",
        "    x = [x for x in res if x[0] == parts[21][0]]\n",
        "    kw_sans = [i[1][1] for i in x]\n",
        "    kw_rus = [i[2][1] for i in x]\n",
        "\n",
        "    rus = parts[21][2].lower()\n",
        "    sans = parts[21][1].lower()\n",
        "\n",
        "    rus_text = ''\n",
        "    for word in rus.split():\n",
        "      check = False\n",
        "      for k, color in zip(kw_rus, colors[:len(x)+1]):\n",
        "        done = word.replace(k, \"<b style='color:{}'>\".format(color) + k + \"</b>\")\n",
        "        if done != word:\n",
        "          check = True\n",
        "          break\n",
        "      if check == False:\n",
        "        rus_text = rus_text + word + ' '\n",
        "      else:\n",
        "        rus_text = rus_text + done + ' '\n",
        "      \n",
        "\n",
        "    # rus = rus.replace(k, \"<b style='color:{}'>\".format(color) + k + \"</b>\")\n",
        "    # rus = rus.replace(\"\\n\",\"<br>\")\n",
        "    # rus = rus.replace(\"\\t\", \"&nbsp;&nbsp;&nbsp;&nbsp;\")\n",
        "\n",
        "    sans_text = ''\n",
        "    for word in sans.split():\n",
        "      check = False\n",
        "      for k, color in zip(kw_sans, colors[:len(x)+1]):\n",
        "        done = word.replace(k, \"<b style='color:{}'>\".format(color) + k + \"</b>\")\n",
        "        if done != word:\n",
        "          check = True\n",
        "          break\n",
        "      if check == False:\n",
        "        sans_text = sans_text + word + ' '\n",
        "      else:\n",
        "        sans_text = sans_text + done + ' '\n",
        "\n",
        "    #   sans = sans.replace(k, \"<b style='color:{}'>\".format(color) + k + \"</b>\")\n",
        "    # sans = sans.replace(\"\\n\",\"<br>\")\n",
        "    # sans = sans.replace(\"\\t\", \"&nbsp;&nbsp;&nbsp;&nbsp;\")\n",
        "\n",
        "    text = parts[21][0] + '<br><br>' + rus_text + '<br><br>' + sans_text + '<br><br>*****************************************************************'\n",
        "    for i in set(re.findall('[।॥][\\s0-9]+', text)):\n",
        "      text = re.sub(i, i + '<br>', text)\n",
        "    return text\n",
        "\n",
        "corp = highlight(parts, res)\n",
        " \n",
        "with open(\"paral_corp.html\", \"w\", encoding = 'utf-8') as file:\n",
        "    file.write(corp)"
      ],
      "execution_count": 0,
      "outputs": []
    },
    {
      "cell_type": "code",
      "metadata": {
        "id": "KJj3-I4N6J9P",
        "colab_type": "code",
        "colab": {}
      },
      "source": [
        "# with open(\"paral_corpus.txt\", \"w\", encoding = 'utf-8') as file:\n",
        "#     file.write(corp)"
      ],
      "execution_count": 0,
      "outputs": []
    },
    {
      "cell_type": "code",
      "metadata": {
        "id": "28Q8LzkKLPix",
        "colab_type": "code",
        "outputId": "03740047-df47-49ba-d37f-3b9e8b904e67",
        "colab": {
          "base_uri": "https://localhost:8080/",
          "height": 1000
        }
      },
      "source": [
        "print(len(set(found)))\n",
        "set(found)"
      ],
      "execution_count": 0,
      "outputs": [
        {
          "output_type": "stream",
          "text": [
            "83\n"
          ],
          "name": "stdout"
        },
        {
          "output_type": "execute_result",
          "data": {
            "text/plain": [
              "{('адити', 132),\n",
              " ('ангарака', 29),\n",
              " ('арка', 5),\n",
              " ('арьяман', 1),\n",
              " ('асурами', 51),\n",
              " ('ашваттха', 81),\n",
              " ('брахма', 38),\n",
              " ('брахманам', 22),\n",
              " ('брахманов', 13),\n",
              " ('брахманов', 180),\n",
              " ('брихаспати', 25),\n",
              " ('будха', 27),\n",
              " ('бхага', 2),\n",
              " ('бхаскару', 62),\n",
              " ('бхима', 136),\n",
              " ('вайнья', 138),\n",
              " ('вайшампаяна', 0),\n",
              " ('вайшравана', 42),\n",
              " ('варуна', 99),\n",
              " ('вивасван', 31),\n",
              " ('вишну', 39),\n",
              " ('ганами', 43),\n",
              " ('года', 77),\n",
              " ('года', 79),\n",
              " ('двапара', 63),\n",
              " ('джанамеджая', 0),\n",
              " ('дханвантари', 128),\n",
              " ('дхарма', 173),\n",
              " ('дхарме', 161),\n",
              " ('дхармой', 76),\n",
              " ('дхармы', 54),\n",
              " ('дхаумьи', 5),\n",
              " ('дхаумьи', 28),\n",
              " ('дхаумья', 21),\n",
              " ('дхаумья', 32),\n",
              " ('дхаумья', 64),\n",
              " ('индра', 30),\n",
              " ('кала', 69),\n",
              " ('картавирья', 137),\n",
              " ('каурава', 7),\n",
              " ('каштха', 70),\n",
              " ('крита', 61),\n",
              " ('кунти', 7),\n",
              " ('махабхараты', 133),\n",
              " ('мира', 93),\n",
              " ('мухурта', 72),\n",
              " ('нарада', 18),\n",
              " ('нахуша', 140),\n",
              " ('нишачарами', 49),\n",
              " ('пакша', 73),\n",
              " ('партхе', 35),\n",
              " ('питарами', 42),\n",
              " ('пранаяму', 45),\n",
              " ('пуруша', 85),\n",
              " ('пушан', 4),\n",
              " ('рави', 7),\n",
              " ('рудра', 40),\n",
              " ('савитар', 6),\n",
              " ('савитар', 11),\n",
              " ('самадхи', 148),\n",
              " ('сиддхами', 50),\n",
              " ('сканда', 41),\n",
              " ('сома', 24),\n",
              " ('сурьи', 8),\n",
              " ('сурью', 17),\n",
              " ('сурья', 0),\n",
              " ('тваштри', 3),\n",
              " ('теджас', 53),\n",
              " ('теджасом', 29),\n",
              " ('теджасом', 66),\n",
              " ('трета', 62),\n",
              " ('шакра', 13),\n",
              " ('шакры', 15),\n",
              " ('шаунаки', 4),\n",
              " ('шаури', 35),\n",
              " ('шукра', 26),\n",
              " ('юдхиштхира', 5),\n",
              " ('юдхиштхира', 9),\n",
              " ('юдхиштхира', 10),\n",
              " ('юдхиштхира', 23),\n",
              " ('юдхиштхире', 80),\n",
              " ('якшами', 45),\n",
              " ('яма', 43)}"
            ]
          },
          "metadata": {
            "tags": []
          },
          "execution_count": 29
        }
      ]
    },
    {
      "cell_type": "code",
      "metadata": {
        "id": "kXl4v6uamgxf",
        "colab_type": "code",
        "colab": {}
      },
      "source": [
        "print(colored('hello', 'red'), colored('world', 'green'))"
      ],
      "execution_count": 0,
      "outputs": []
    },
    {
      "cell_type": "code",
      "metadata": {
        "id": "hirkJgnrm81W",
        "colab_type": "code",
        "colab": {}
      },
      "source": [
        "a = [1]\n",
        "a[-2]"
      ],
      "execution_count": 0,
      "outputs": []
    },
    {
      "cell_type": "code",
      "metadata": {
        "id": "6Btax8h8fRaE",
        "colab_type": "code",
        "colab": {}
      },
      "source": [
        ""
      ],
      "execution_count": 0,
      "outputs": []
    }
  ]
}